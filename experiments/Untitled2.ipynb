{
 "cells": [
  {
   "cell_type": "code",
   "execution_count": 8,
   "id": "d753c8d5",
   "metadata": {},
   "outputs": [],
   "source": [
    "import numpy as np\n",
    "\n",
    "N = 8\n",
    "t = np.arange(N)\n",
    "f = np.sin(2*np.pi * t/N)"
   ]
  },
  {
   "cell_type": "code",
   "execution_count": 9,
   "id": "abddeea5",
   "metadata": {},
   "outputs": [
    {
     "data": {
      "text/plain": [
       "array([ 0.00000000e+00,  7.07106781e-01,  1.00000000e+00,  7.07106781e-01,\n",
       "        1.22464680e-16, -7.07106781e-01, -1.00000000e+00, -7.07106781e-01])"
      ]
     },
     "execution_count": 9,
     "metadata": {},
     "output_type": "execute_result"
    }
   ],
   "source": [
    "f"
   ]
  },
  {
   "cell_type": "code",
   "execution_count": 10,
   "id": "106a5119",
   "metadata": {},
   "outputs": [],
   "source": [
    "ft = np.fft.fft(f)"
   ]
  },
  {
   "cell_type": "code",
   "execution_count": 12,
   "id": "7e0bfd9a",
   "metadata": {},
   "outputs": [
    {
     "name": "stdout",
     "output_type": "stream",
     "text": [
      "[ 1.22464680e-16+0.00000000e+00j -3.44509285e-16-4.00000000e+00j\n",
      "  1.22464680e-16-2.22044605e-16j  9.95799250e-17+0.00000000e+00j\n",
      "  1.22464680e-16+0.00000000e+00j  9.95799250e-17+0.00000000e+00j\n",
      "  1.22464680e-16+2.22044605e-16j -3.44509285e-16+4.00000000e+00j]\n"
     ]
    }
   ],
   "source": [
    "print(ft)"
   ]
  },
  {
   "cell_type": "code",
   "execution_count": 13,
   "id": "f1f804a6",
   "metadata": {},
   "outputs": [
    {
     "data": {
      "text/plain": [
       "(1.2246467991473532e-16+0j)"
      ]
     },
     "execution_count": 13,
     "metadata": {},
     "output_type": "execute_result"
    }
   ],
   "source": [
    "ft[0]"
   ]
  },
  {
   "cell_type": "code",
   "execution_count": null,
   "id": "4e920db4",
   "metadata": {},
   "outputs": [],
   "source": []
  }
 ],
 "metadata": {
  "kernelspec": {
   "display_name": "Python (nilmtk-env)",
   "language": "python",
   "name": "nilmtk-env"
  },
  "language_info": {
   "codemirror_mode": {
    "name": "ipython",
    "version": 3
   },
   "file_extension": ".py",
   "mimetype": "text/x-python",
   "name": "python",
   "nbconvert_exporter": "python",
   "pygments_lexer": "ipython3",
   "version": "3.8.12"
  }
 },
 "nbformat": 4,
 "nbformat_minor": 5
}
